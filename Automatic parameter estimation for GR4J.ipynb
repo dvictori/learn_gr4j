{
 "cells": [
  {
   "cell_type": "markdown",
   "metadata": {},
   "source": [
    "Automatic parameter estimation for GR4J. Uses scipy optimize packages.\n",
    "\n",
    "Following exemples found in https://stackoverflow.com/questions/19664865/migrating-from-pulp-to-scipy\n",
    "\n",
    "Preparing the functions"
   ]
  },
  {
   "cell_type": "code",
   "execution_count": 3,
   "metadata": {
    "collapsed": true
   },
   "outputs": [],
   "source": [
    "import matplotlib.pyplot as plt\n",
    "import pandas as pd\n",
    "import numpy as np\n",
    "import scipy.optimize as opt\n",
    "\n",
    "# GR4J lives in a directory above this code. Not sure this is the best practice...\n",
    "import os, sys\n",
    "sys.path.append(os.path.relpath(\"../gr4j\"))\n",
    "from gr4j import gr4j\n",
    "\n",
    "# discharge conversion functions\n",
    "def m3_to_mm(q, area):\n",
    "    '''Convert m3/s discharge data to mm/day\n",
    "    q: list of daily discharge records\n",
    "    area: basin area (km2)\n",
    "    return: list of converted discharge records\n",
    "    '''\n",
    "    return [i * 86.4 / area for i in q]\n",
    "\n",
    "\n",
    "# Objective function (Nash-Sutcliffe)\n",
    "def nash(qobs, qsim):\n",
    "    top = sum((qsim - qobs)**2)\n",
    "    bottom = sum((qobs.mean() - qobs)**2)\n",
    "    return 1 - top/bottom\n",
    "\n",
    "# function to be minimized\n",
    "def fun(guess, prec, etp, qobs):\n",
    "    params = {'X1': guess[0],\n",
    "              'X2': guess[1],\n",
    "              'X3': guess[2],\n",
    "              'X4': guess[3]\n",
    "             }\n",
    "    \n",
    "    states = {'production_store': 0.60 * params['X1'],\n",
    "              'routing_store': 0.70 * params['X3']\n",
    "             }\n",
    "\n",
    "    qsim = gr4j(prec, etp, params, states)\n",
    "    n = nash(qobs, qsim)\n",
    "    return -n\n"
   ]
  },
  {
   "cell_type": "markdown",
   "metadata": {},
   "source": [
    "From here on things are still **broken**. Simulated discharge is in mm/day (I believe, from looking at the model excell spreadsheet). But observed discharge from the USGS dataset is in cubic meters per day. And reading the code used to generate the data, I believe the original author converted CF/S do ML/day (milimiters per day) (https://github.com/amacd31/daily_hydromet_sample_data). All this is too confusing so I'm probably better off using some other dataset or better yet, data from a Brazilian watershed. Need to prepare datasets.\n",
    "\n",
    "Some conversions must be done in the test data prior to running the optimization.\n",
    "\n",
    "Also, it's interesnting to make the function to be optimized more generic, taking as input not only the parameters to be estimated but precipitation, etp and qobs.\n",
    "\n",
    "Test data is from waterched Twentymile Creek NR Guntown, MS (USGS 02430680) (https://waterdata.usgs.gov/ms/nwis/uv?site_no=02430680)\n"
   ]
  },
  {
   "cell_type": "code",
   "execution_count": 4,
   "metadata": {},
   "outputs": [
    {
     "data": {
      "text/plain": [
       "-0.096351478846414373"
      ]
     },
     "execution_count": 4,
     "metadata": {},
     "output_type": "execute_result"
    }
   ],
   "source": [
    "# Reading USGS data from GR4J packaage test dirlendo o arquivo de dados do USGS\n",
    "test_data = pd.read_csv('../gr4j/tests/USGS_02430680_combined.csv', skiprows=1)\n",
    "\n",
    "# Initial guess of model parameters\n",
    "# done as a list since it's what the optimization function expects.\n",
    "# GR4J funcion recieves a dictionary\n",
    "# This is treated inside the funcion to be optmized. \n",
    "#guess = [303.627616, 0.32238919, 6.49759466, 0.294803885]\n",
    "guess = [100, 0.3, 6, 0.3]\n",
    "\n",
    "\n",
    "prec = test_data['P'].loc[:700]\n",
    "etp = test_data['PE'].loc[:700]\n",
    "qobs = test_data['Q'].loc[:700]\n",
    "\n",
    "result = opt.minimize(fun, guess, method='SLSQP', args=(prec, etp, qobs))\n",
    "\n",
    "# Simulating using the optimized parameters\n",
    "\n",
    "params = {'X1': result['x'][0],\n",
    "          'X2': result['x'][1],\n",
    "          'X3': result['x'][2],\n",
    "          'X4': result['x'][3]\n",
    "         }\n",
    "\n",
    "states = {'production_store': 0.60 * params['X1'],\n",
    "          'routing_store': 0.70 * params['X3']\n",
    "         }\n",
    "\n",
    "prec = test_data['P'].loc[:700]\n",
    "etp = test_data['PE'].loc[:700]\n",
    "qobs = test_data['Q'].loc[:700]\n",
    "qsim = gr4j(prec, etp, params, states)\n",
    "\n",
    "# qobs is in cubic meters per seccond\n",
    "# GR4J gives results in mm/day (at least thats that I understood from the model excell spreadsheet)\n",
    "# must do some actual conversions in the observed data prior to optimization\n",
    "nash(qobs, qsim)"
   ]
  }
 ],
 "metadata": {
  "kernelspec": {
   "display_name": "Python 3",
   "language": "python",
   "name": "python3"
  },
  "language_info": {
   "codemirror_mode": {
    "name": "ipython",
    "version": 3
   },
   "file_extension": ".py",
   "mimetype": "text/x-python",
   "name": "python",
   "nbconvert_exporter": "python",
   "pygments_lexer": "ipython3",
   "version": "3.5.2"
  }
 },
 "nbformat": 4,
 "nbformat_minor": 2
}
