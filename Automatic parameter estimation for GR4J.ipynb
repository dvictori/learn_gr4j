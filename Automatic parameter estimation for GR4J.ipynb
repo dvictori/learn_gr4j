{
 "cells": [
  {
   "cell_type": "markdown",
   "metadata": {},
   "source": [
    "Automatic parameter estimation for GR4J. Uses scipy optimize packages.\n",
    "\n",
    "Following exemples found in https://stackoverflow.com/questions/19664865/migrating-from-pulp-to-scipy\n",
    "\n",
    "Preparing the functions"
   ]
  },
  {
   "cell_type": "code",
   "execution_count": 66,
   "metadata": {
    "collapsed": true
   },
   "outputs": [],
   "source": [
    "import matplotlib.pyplot as plt\n",
    "import pandas as pd\n",
    "import numpy as np\n",
    "import scipy.optimize as opt\n",
    "\n",
    "# GR4J lives in a directory above this code. Not sure this is the best practice...\n",
    "import os, sys\n",
    "sys.path.append(os.path.relpath(\"../gr4j\"))\n",
    "from gr4j import gr4j\n",
    "\n",
    "# discharge conversion functions\n",
    "def m3_to_mm(q, area):\n",
    "    '''Convert m3/s discharge data to mm/day\n",
    "    q: list of daily discharge records\n",
    "    area: basin area (km2)\n",
    "    return: list of converted discharge records\n",
    "    '''\n",
    "    return [i * 86.4 / area for i in q]\n",
    "\n",
    "## parameter transformation functions\n",
    "# recieve a dictionary of parameters\n",
    "# returns a dictionary of transformed (real) parameter\n",
    "\n",
    "def real2transf(params):\n",
    "    '''Convert real parameter to transformed'''\n",
    "    x1 = np.log(params['X1'])\n",
    "    x2 = np.arcsinh(params['X2'])\n",
    "    x3 = np.log(params['X3'])\n",
    "    x4 = np.log(params['X4']-0.5)\n",
    "    return {'X1': x1,\n",
    "            'X2': x2,\n",
    "            'X3': x3,\n",
    "            'X4': x4\n",
    "           }\n",
    "\n",
    "def transf2real(params):\n",
    "    '''Convert transformed parameters to real'''\n",
    "    x1 = np.exp(params['X1'])\n",
    "    x2 = np.sinh(params['X2'])\n",
    "    x3 = np.exp(params['X3'])\n",
    "    x4 = np.exp(params['X4'])+0.5\n",
    "    return {'X1': x1,\n",
    "            'X2': x2,\n",
    "            'X3': x3,\n",
    "            'X4': x4\n",
    "           }\n",
    "\n",
    "\n",
    "# Objective function (Nash-Sutcliffe)\n",
    "def nash(qobs, qsim):\n",
    "    top = sum((qsim - qobs)**2)\n",
    "    bottom = sum((qobs.mean() - qobs)**2)\n",
    "    return 1 - top/bottom\n",
    "\n",
    "# function to be minimized, using real parameter values\n",
    "def fun(guess, prec, etp, qobs):\n",
    "    params = {'X1': guess[0],\n",
    "              'X2': guess[1],\n",
    "              'X3': guess[2],\n",
    "              'X4': guess[3]\n",
    "             }\n",
    "       \n",
    "    states = {'production_store': 0.60 * params['X1'],\n",
    "              'routing_store': 0.70 * params['X3']\n",
    "             }\n",
    "\n",
    "    qsim = gr4j(prec, etp, params, states)\n",
    "    n = nash(qobs, qsim)\n",
    "    return -n\n",
    "\n",
    "# function to be minimized, using transformed parameters values\n",
    "def fun_transf(guess, prec, etp, qobs):\n",
    "    transf_params = {'X1': guess[0],\n",
    "              'X2': guess[1],\n",
    "              'X3': guess[2],\n",
    "              'X4': guess[3]\n",
    "             }\n",
    "    \n",
    "    params = transf2real(transf_params)\n",
    "    \n",
    "    states = {'production_store': 0.60 * params['X1'],\n",
    "              'routing_store': 0.70 * params['X3']\n",
    "             }\n",
    "\n",
    "    qsim = gr4j(prec, etp, params, states)\n",
    "    n = nash(qobs, qsim)\n",
    "    return -n\n"
   ]
  },
  {
   "cell_type": "markdown",
   "metadata": {},
   "source": [
    "Testing the automatic parameter estimation using the dataset that comes with the GR4J_en.xlsx model spreadsheet. This data is from _Le Léguer à Belle-Isle-en-Terre_ watershed. The original model was obtained from https://webgr.irstea.fr/en/modeles/journalier-gr4j-2/fonctionnement_gr4j/.\n",
    "\n",
    "A more detailed description of the dataset can be found on the dataset directory of this repository.\n"
   ]
  },
  {
   "cell_type": "code",
   "execution_count": 68,
   "metadata": {},
   "outputs": [
    {
     "name": "stdout",
     "output_type": "stream",
     "text": [
      "Nash coefficient from the spreadsheet: 0.919\n",
      "Nash coefficient obtained using transformed parameter optimization: 0.528\n",
      "Nash coefficient obtained using real parameter optimization: 0.764\n"
     ]
    }
   ],
   "source": [
    "# Reading sample data that comes with the original model - french basin\n",
    "test_data = pd.read_csv('datasets/gr4j_test_data.csv')\n",
    "test_data['Date'] = pd.to_datetime(test_data['Date'])\n",
    "test_data = test_data.set_index('Date')\n",
    "\n",
    "# Initial guess of TRANSFORMED model parameters\n",
    "# done as a list since it's what the optimization function expects.\n",
    "# GR4J function recieves a dictionary of REAL model parameters\n",
    "# functon takes care of parameter convertion\n",
    "# guess based on median parameter value reported by Perrin et al (2003)\n",
    "# in real and transformed parameter space\n",
    "guess = [350, 0, 90, 1.7]\n",
    "guess_transf = [5.9, 0, 4.5, 0.18] \n",
    "\n",
    "# Calibrating model with the first year of data\n",
    "prec_cal = test_data['Precip (mm)'].loc[:'1991-12-31']\n",
    "etp_cal = test_data['ETP (mm)'].loc[:'1991-12-31']\n",
    "qobs_cal = test_data['Qobs (mm/day)'].loc[:'1991-12-31']\n",
    "qsim_orig_cal = test_data['Qsim (mm/day)'].loc[:'1991-12-31']\n",
    "\n",
    "# bounds based on 80% parameter estimates (from Perrin et al, 2003)\n",
    "# in real and transformed space\n",
    "bnds = ((100, 1200),\n",
    "        (-5, 3),\n",
    "        (20, 300),\n",
    "        (1.1, 2.9)\n",
    "       )\n",
    "\n",
    "bnds_transf = ((4.5, 7),\n",
    "               (-2.31, 1.81),\n",
    "               (3, 5.7),\n",
    "               (-0.51, 0.87)\n",
    "              )\n",
    "\n",
    "# running optimization using transformed or real parameter values\n",
    "result = opt.minimize(fun, guess, method='SLSQP',\n",
    "                      args=(prec_cal, etp_cal, qobs_cal), bounds=bnds)\n",
    "\n",
    "result_transf = opt.minimize(fun_transf, guess_transf, method='SLSQP',\n",
    "                             args=(prec_cal, etp_cal, qobs_cal), bounds=bnds_transf)\n",
    "\n",
    "#result = opt.minimize(fun, guess, method='Nelder-Mead', args=(prec_cal, etp_cal, qobs_cal))\n",
    "\n",
    "# Simulating using the optimized parameters (transformed values)\n",
    "t_params = {'X1': result_transf['x'][0],\n",
    "          'X2': result_transf['x'][1],\n",
    "          'X3': result_transf['x'][2],\n",
    "          'X4': result_transf['x'][3]\n",
    "         }\n",
    "\n",
    "params_t = transf2real(t_params)\n",
    "states_t = {'production_store': 0.60 * params_t['X1'],\n",
    "          'routing_store': 0.70 * params_t['X3']\n",
    "         }\n",
    "\n",
    "# Running for the entire period but verifying for the seccond year\n",
    "prec = test_data['Precip (mm)']\n",
    "etp = test_data['ETP (mm)']\n",
    "qobs = test_data['Qobs (mm/day)']\n",
    "qsim_orig = test_data['Qsim (mm/day)']\n",
    "\n",
    "qsim_t = gr4j(prec, etp, params_t, states_t)\n",
    "qsim_t = pd.DataFrame(qsim_t, columns = ['qsim_t_mod'], index = pd.date_range('1991-1-1', '1992-12-30'))\n",
    "\n",
    "# Simulating using the optimized parameters (real values)\n",
    "params_r = {'X1': result['x'][0],\n",
    "          'X2': result['x'][1],\n",
    "          'X3': result['x'][2],\n",
    "          'X4': result['x'][3]\n",
    "         }\n",
    "\n",
    "states_r = {'production_store': 0.60 * params_r['X1'],\n",
    "          'routing_store': 0.70 * params_r['X3']\n",
    "         }\n",
    "\n",
    "qsim_r = gr4j(prec, etp, params_r, states_r)\n",
    "qsim_r = pd.DataFrame(qsim_r, columns = ['qsim_r_mod'], index = pd.date_range('1991-1-1', '1992-12-30'))\n",
    "\n",
    "data = pd.concat([test_data, qsim_t, qsim_r], axis=1)\n",
    "\n",
    "# checking the adjustment (Nash-Sutcliffe)\n",
    "print(\"Nash coefficient from the spreadsheet: 0.919\")\n",
    "print(\"Nash coefficient obtained using transformed parameter optimization: {:.3f}\".format(nash(\n",
    "    data['Qobs (mm/day)'].loc['1992-1-1':],\n",
    "    data['qsim_t_mod'].loc['1992-1-1':])))\n",
    "print(\"Nash coefficient obtained using real parameter optimization: {:.3f}\".format(nash(\n",
    "    data['Qobs (mm/day)'].loc['1992-1-1':],\n",
    "    data['qsim_r_mod'].loc['1992-1-1':])))"
   ]
  },
  {
   "cell_type": "code",
   "execution_count": 71,
   "metadata": {},
   "outputs": [
    {
     "name": "stdout",
     "output_type": "stream",
     "text": [
      "Model parameters in the spreadsheet were:\n",
      "X1: 320.107; X2: 2.421; X3: 69.628; X4: 1.389\n",
      "Model parameters obtained here (transformed optimization) are:\n",
      "X1: 1096.633; X2: 1.435; X3: 82.399; X4: 1.100\n",
      "Model parameters obtained here (real optimization) are:\n",
      "X1: 379.965; X2: 1.714; X3: 138.283; X4: 1.100\n"
     ]
    }
   ],
   "source": [
    "print('Model parameters in the spreadsheet were:')\n",
    "print('X1: 320.107; X2: 2.421; X3: 69.628; X4: 1.389')\n",
    "print('Model parameters obtained here (transformed optimization) are:')\n",
    "print('X1: {:.3f}; X2: {:.3f}; X3: {:.3f}; X4: {:.3f}'\n",
    "     .format(params_t['X1'], params_t['X2'],\n",
    "             params_t['X3'], params_t['X4']))\n",
    "print('Model parameters obtained here (real optimization) are:')\n",
    "print('X1: {:.3f}; X2: {:.3f}; X3: {:.3f}; X4: {:.3f}'\n",
    "     .format(params_r['X1'], params_r['X2'],\n",
    "             params_r['X3'], params_r['X4']))"
   ]
  },
  {
   "cell_type": "code",
   "execution_count": 56,
   "metadata": {},
   "outputs": [
    {
     "name": "stdout",
     "output_type": "stream",
     "text": [
      "Running the model with the original parameters\n",
      "Nash coefficient equals to the one from the spreadsheet\n",
      "Nash: 0.919\n"
     ]
    }
   ],
   "source": [
    "# running the model with the parameters from the excell spreadsheet exemple\n",
    "params_ex = {'X1': 320.107,\n",
    "          'X2': 2.421,\n",
    "          'X3': 69.628,\n",
    "          'X4': 1.389\n",
    "         }\n",
    "\n",
    "states_ex = {'production_store': 0.60 * params['X1'],\n",
    "          'routing_store': 0.70 * params['X3']\n",
    "         }\n",
    "\n",
    "qsim_ex = gr4j(prec, etp, params_ex, states_ex)\n",
    "\n",
    "print('Running the model with the original parameters')\n",
    "print('Nash coefficient equals to the one from the spreadsheet')\n",
    "print('Nash: {:.3f}'.format(nash(\n",
    "    data['Qobs (mm/day)'].loc['1992-1-1':],\n",
    "    qsim_ex[365:])))"
   ]
  },
  {
   "cell_type": "markdown",
   "metadata": {},
   "source": [
    "What we've seen is that the python optimization can find some good parameters for the model. However, parameters obtained using the solver routines from excell yielded better results. Some things to evaluate:\n",
    "1. What optimization algorithm does Excell solver utilizes?\n",
    "  * For nonlinear optimization: Generalized Reduced Gradient (GRG2)\n",
    "  * Linear programming: Simplex and dual Simplex from Simplex LP\n",
    "  * non-smooth optimization: various genetic algorithms\n",
    "  * source: https://www.solver.com/excel-solver-algorithms-and-methods-used\n",
    "2. The excell spreadsheed optimizes a transformed coefficient. Check if that changes something\n",
    "  * The documentation in the R package about adding other optimization methods mentions that we should used transformed parameters, to ensure homogenity of displacement in different dimensions of the parameter space\n",
    "  * https://cran.r-project.org/web/packages/airGR/vignettes/V02.1_param_optim.html\n",
    "3. Change options in the python solver\n",
    "4. Deppending on the solver and on the initial guess, the optimizatin does not work and I get a \"IndexError: list index out of range\". Ex.: guess = [400, 3, 50, 2]; solver = SLSQP\n",
    "\n",
    "Some observations with solver = SLSQP:\n",
    "\n",
    "| Guess parameters   | Nash |\n",
    "|--------------------|------|\n",
    "| [303, 3.2, 65, 1]  | 0.768|\n",
    "| [303, 3.2, 50, 0.5]| 0.728| \n",
    "|[320, 2.4, 70, 1.4] | 0.766|\n",
    "|[320.11, 2.42, 69.63, 1.39]| 0.766|\n",
    "\n",
    "Even using the initial guess very close to the results from the Excell spreadsheet, I cannot get a Nash coefficient close to 0.92! Need to investigate solver options a bit more.\n",
    "\n",
    "Anyway, plotting some figures:\n"
   ]
  },
  {
   "cell_type": "code",
   "execution_count": 72,
   "metadata": {
    "scrolled": false
   },
   "outputs": [
    {
     "data": {
      "image/png": "[encoded data removed]",
      "text/plain": [
       "<matplotlib.figure.Figure at 0x7fca11f920f0>"
      ]
     },
     "metadata": {},
     "output_type": "display_data"
    }
   ],
   "source": [
    "plt.figure(figsize=(12,7))\n",
    "\n",
    "plt.plot(data['qsim_r_mod'], 'b--', label = 'Simulated (real)')\n",
    "plt.plot(data['qsim_t_mod'], 'g--', label = 'Simulated (transf)')\n",
    "plt.plot(data['Qobs (mm/day)'], 'k', label = 'Observed discharge')\n",
    "plt.plot(data['Qsim (mm/day)'], 'r--', label = 'Sim. original')\n",
    "plt.legend()\n",
    "\n",
    "plt.show()"
   ]
  },
  {
   "cell_type": "code",
   "execution_count": 52,
   "metadata": {},
   "outputs": [
    {
     "data": {
      "text/plain": [
       "{'X1': 7.0900768357760917,\n",
       " 'X2': 1.8184464592320668,\n",
       " 'X3': 5.7037824746562009,\n",
       " 'X4': 0.87546873735389985}"
      ]
     },
     "execution_count": 52,
     "metadata": {},
     "output_type": "execute_result"
    }
   ],
   "source": [
    "params = {'X1': 1200,\n",
    "          'X2': 3,\n",
    "          'X3': 300,\n",
    "          'X4': 2.9\n",
    "         }\n",
    "real2transf(params)"
   ]
  }
 ],
 "metadata": {
  "kernelspec": {
   "display_name": "Python 3",
   "language": "python",
   "name": "python3"
  },
  "language_info": {
   "codemirror_mode": {
    "name": "ipython",
    "version": 3
   },
   "file_extension": ".py",
   "mimetype": "text/x-python",
   "name": "python",
   "nbconvert_exporter": "python",
   "pygments_lexer": "ipython3",
   "version": "3.5.2"
  }
 },
 "nbformat": 4,
 "nbformat_minor": 2
}
