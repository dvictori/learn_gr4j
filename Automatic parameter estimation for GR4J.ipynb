{
 "cells": [
  {
   "cell_type": "markdown",
   "metadata": {},
   "source": [
    "Automatic parameter estimation for GR4J. Uses scipy optimize packages.\n",
    "\n",
    "Following exemples found in https://stackoverflow.com/questions/19664865/migrating-from-pulp-to-scipy"
   ]
  },
  {
   "cell_type": "code",
   "execution_count": 3,
   "metadata": {},
   "outputs": [],
   "source": [
    "import matplotlib.pyplot as plt\n",
    "import pandas as pd\n",
    "import numpy as np\n",
    "import scipy.optimize as opt\n",
    "\n",
    "# GR4J lives in a directory above this code. Not sure this is the best practice...\n",
    "import os, sys\n",
    "sys.path.append(os.path.relpath(\"../gr4j\"))\n",
    "from gr4j import gr4j\n",
    "\n",
    "# Reading USGS data from GR4J packaage test dirlendo o arquivo de dados do USGS\n",
    "test_data = pd.read_csv('../gr4j/tests/USGS_02430680_combined.csv', skiprows=1)\n",
    "\n",
    "# Initial guess of model parameters\n",
    "# done as a list since it's what the optimization function expects.\n",
    "# GR4J funcion recieves a dictionary\n",
    "# This is treated inside the funcion to be optmized. \n",
    "#guess = [303.627616, 0.32238919, 6.49759466, 0.294803885]\n",
    "guess = [103.627616, 0.32238919, 6.49759466, 0.294803885]\n",
    "\n",
    "# Objective function (Nash-Sutcliffe)\n",
    "def nash(qobs, qsim):\n",
    "    top = sum((qsim - qobs)**2)\n",
    "    bottom = sum((qobs.mean() - qobs)**2)\n",
    "    return 1 - top/bottom\n",
    "\n",
    "# function to be minimized\n",
    "def fun(guess):\n",
    "    params = {'X1': guess[0],\n",
    "              'X2': guess[1],\n",
    "              'X3': guess[2],\n",
    "              'X4': guess[3]\n",
    "        }\n",
    "    states = {'production_store': 0.60 * params['X1'],\n",
    "          'routing_store': 0.70 * params['X3']\n",
    "         }\n",
    "    prec = test_data['P'].ix[:700]\n",
    "    etp = test_data['PE'].ix[:700]\n",
    "    qobs = test_data['Q'].ix[:700]\n",
    "    qsim = gr4j(prec, etp, params, states)\n",
    "    n = nash(qobs, qsim)\n",
    "    return -n\n"
   ]
  },
  {
   "cell_type": "markdown",
   "metadata": {},
   "source": [
    "From here on things are still **broken**. Simulated discharge is in mm/day (I believe, from looking at the model excell spreadsheet). But observed discharge from the USGS dataset is in cubic meters per day. Some conversions must be done in the test data prior to running the optimization.\n",
    "\n",
    "Also, it's interesnting to make the function to be optimized more generic, taking as input not only the parameters to be estimated but precipitation, etp and qobs."
   ]
  },
  {
   "cell_type": "code",
   "execution_count": 5,
   "metadata": {},
   "outputs": [
    {
     "data": {
      "text/plain": [
       "-0.096392218390526585"
      ]
     },
     "execution_count": 5,
     "metadata": {},
     "output_type": "execute_result"
    }
   ],
   "source": [
    "result = opt.minimize(fun, guess, method='SLSQP')\n",
    "\n",
    "# Simulating using the optimized parameters\n",
    "\n",
    "params = {'X1': result['x'][0],\n",
    "          'X2': result['x'][1],\n",
    "          'X3': result['x'][2],\n",
    "          'X4': result['x'][3]\n",
    "         }\n",
    "\n",
    "states = {'production_store': 0.60 * params['X1'],\n",
    "          'routing_store': 0.70 * params['X3']\n",
    "         }\n",
    "\n",
    "prec = test_data['P'].loc[:700]\n",
    "etp = test_data['PE'].loc[:700]\n",
    "qobs = test_data['Q'].loc[:700]\n",
    "qsim = gr4j(prec, etp, params, states)\n",
    "\n",
    "# qobs is in cubic meters per seccond\n",
    "# GR4J gives results in mm/day (at least thats that I understood from the model excell spreadsheet)\n",
    "# must do some actual conversions in the observed data prior to optimization\n",
    "nash(qobs, qsim)"
   ]
  }
 ],
 "metadata": {
  "kernelspec": {
   "display_name": "Python 3",
   "language": "python",
   "name": "python3"
  },
  "language_info": {
   "codemirror_mode": {
    "name": "ipython",
    "version": 3
   },
   "file_extension": ".py",
   "mimetype": "text/x-python",
   "name": "python",
   "nbconvert_exporter": "python",
   "pygments_lexer": "ipython3",
   "version": "3.5.2"
  }
 },
 "nbformat": 4,
 "nbformat_minor": 2
}
